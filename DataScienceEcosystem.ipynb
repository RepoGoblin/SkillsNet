{
 "cells": [
  {
   "cell_type": "markdown",
   "id": "46882e12-6cea-498e-a064-5ee5b80f428b",
   "metadata": {},
   "source": [
    "# Data Science Tools and Ecosystem"
   ]
  },
  {
   "cell_type": "markdown",
   "id": "e2f79430-fc8b-4d77-b824-1de0bbd59bfa",
   "metadata": {
    "tags": []
   },
   "source": [
    "In this notebook, Data Science Tools and Ecosystem are summarized."
   ]
  },
  {
   "cell_type": "markdown",
   "id": "3ba76aeb-d263-4551-9bcb-0ed724595989",
   "metadata": {},
   "source": [
    "**Objectives:**\n",
    "- List popular languages for Data Science\n",
    "- List popular libraries for Data Science\n",
    "- Create markdown cells and use features such as headings and tables\n",
    "- Create code cells and run the cells to evaluate expressions"
   ]
  },
  {
   "cell_type": "markdown",
   "id": "d2cac328-15e7-409f-b942-fb75675c690e",
   "metadata": {},
   "source": [
    "Some of the popular languages that Data Scientists use are:\n",
    "1. Python\n",
    "2. R\n",
    "3. Julia"
   ]
  },
  {
   "cell_type": "markdown",
   "id": "1bd5cb67-6bdf-41b6-9e03-b942dab67b14",
   "metadata": {},
   "source": [
    "Some of the commonly used libraries used by Data Scientists include:\n",
    "1. TensorFlow\n",
    "2. NumPy\n",
    "3. Matplotlib"
   ]
  },
  {
   "cell_type": "markdown",
   "id": "7f78930c-9db1-4ee4-ab6a-61dfaa94cffd",
   "metadata": {},
   "source": [
    "|Data Science Tools|\n",
    "------\n",
    "|RStudio|\n",
    "|Visual Studio Code|\n",
    "|GitHub|"
   ]
  },
  {
   "cell_type": "markdown",
   "id": "88f171b6-b21a-4921-b505-0e98ec22435e",
   "metadata": {},
   "source": [
    "### Below are a few examples of evaluating arithmetic expressions in Python"
   ]
  },
  {
   "cell_type": "code",
   "execution_count": 2,
   "id": "cf886b40-78a2-41f1-96f6-86eb9a397333",
   "metadata": {
    "tags": []
   },
   "outputs": [
    {
     "data": {
      "text/plain": [
       "17"
      ]
     },
     "execution_count": 2,
     "metadata": {},
     "output_type": "execute_result"
    }
   ],
   "source": [
    "#This a simple arithmetic expression to mutiply then add integers\n",
    "(3*4)+5"
   ]
  },
  {
   "cell_type": "code",
   "execution_count": 4,
   "id": "956f343e-dfd9-4e28-b090-536225d15ee0",
   "metadata": {
    "tags": []
   },
   "outputs": [
    {
     "name": "stdout",
     "output_type": "stream",
     "text": [
      "3.3333333333333335\n"
     ]
    }
   ],
   "source": [
    "#This will convert 200 minutes to hours by diving by 60\n",
    "x = 200\n",
    "y = x/60\n",
    "print(y)"
   ]
  },
  {
   "cell_type": "markdown",
   "id": "b1e65d44-7dcb-4fbc-937a-039628803ec8",
   "metadata": {},
   "source": [
    "## Author\n",
    "Peter B."
   ]
  }
 ],
 "metadata": {
  "kernelspec": {
   "display_name": "Python",
   "language": "python",
   "name": "conda-env-python-py"
  },
  "language_info": {
   "codemirror_mode": {
    "name": "ipython",
    "version": 3
   },
   "file_extension": ".py",
   "mimetype": "text/x-python",
   "name": "python",
   "nbconvert_exporter": "python",
   "pygments_lexer": "ipython3",
   "version": "3.7.12"
  }
 },
 "nbformat": 4,
 "nbformat_minor": 5
}
